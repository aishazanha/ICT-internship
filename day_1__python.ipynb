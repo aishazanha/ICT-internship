{
  "nbformat": 4,
  "nbformat_minor": 0,
  "metadata": {
    "colab": {
      "provenance": [],
      "include_colab_link": true
    },
    "kernelspec": {
      "name": "python3",
      "display_name": "Python 3"
    },
    "language_info": {
      "name": "python"
    }
  },
  "cells": [
    {
      "cell_type": "markdown",
      "metadata": {
        "id": "view-in-github",
        "colab_type": "text"
      },
      "source": [
        "<a href=\"https://colab.research.google.com/github/aishazanha/ICT-internship/blob/day1/day_1__python.ipynb\" target=\"_parent\"><img src=\"https://colab.research.google.com/assets/colab-badge.svg\" alt=\"Open In Colab\"/></a>"
      ]
    },
    {
      "cell_type": "code",
      "execution_count": null,
      "metadata": {
        "id": "oDPUukTdBgf6"
      },
      "outputs": [],
      "source": [
        "a=['Aisha','Adharsh','Noel']"
      ]
    },
    {
      "cell_type": "code",
      "source": [
        "s=-3\n",
        "while s<0:\n",
        "   b=a[s]\n",
        "   s=s+1\n"
      ],
      "metadata": {
        "id": "_RQ5nLehCMHm"
      },
      "execution_count": null,
      "outputs": []
    },
    {
      "cell_type": "code",
      "source": [
        "for i in 0,1,2:\n",
        " print(b)"
      ],
      "metadata": {
        "colab": {
          "base_uri": "https://localhost:8080/"
        },
        "id": "5OwmFTl2DGNq",
        "outputId": "1f668ef9-4eb1-46a3-f045-a6ca0aaac47e"
      },
      "execution_count": null,
      "outputs": [
        {
          "output_type": "stream",
          "name": "stdout",
          "text": [
            "Noel\n",
            "Noel\n",
            "Noel\n"
          ]
        }
      ]
    },
    {
      "cell_type": "code",
      "execution_count": null,
      "metadata": {
        "colab": {
          "base_uri": "https://localhost:8080/"
        },
        "id": "p0l2KuW_IAN8",
        "outputId": "9c646595-5d2b-4521-b419-1bde8214c1e3"
      },
      "outputs": [
        {
          "output_type": "stream",
          "name": "stdout",
          "text": [
            "*****\n",
            "*****\n",
            "*****\n",
            "*****\n",
            "*****\n"
          ]
        }
      ],
      "source": [
        "i=4\n",
        "while i>=0:\n",
        " j=0\n",
        " while j<=4:\n",
        "   j=j+1\n",
        "   print(\"*\",end=\"\")\n",
        " print(\"\")\n",
        " i=i-1\n",
        " "
      ]
    },
    {
      "cell_type": "code",
      "source": [
        "print(\"world of python\",end=\"!\")"
      ],
      "metadata": {
        "colab": {
          "base_uri": "https://localhost:8080/"
        },
        "id": "KVbsJmZRL7pf",
        "outputId": "90affb6a-8766-4b4d-edf3-0e4365126828"
      },
      "execution_count": null,
      "outputs": [
        {
          "output_type": "stream",
          "name": "stdout",
          "text": [
            "world of python!"
          ]
        }
      ]
    },
    {
      "cell_type": "code",
      "source": [
        "print(\"hello \\n\"*4)"
      ],
      "metadata": {
        "colab": {
          "base_uri": "https://localhost:8080/"
        },
        "id": "joMQL2vAXCP-",
        "outputId": "7d40b0e0-45a1-4bd9-f72f-1be50dc13546"
      },
      "execution_count": null,
      "outputs": [
        {
          "output_type": "stream",
          "name": "stdout",
          "text": [
            "hello \n",
            "hello \n",
            "hello \n",
            "hello \n",
            "\n"
          ]
        }
      ]
    },
    {
      "cell_type": "code",
      "source": [
        "s=\"python\""
      ],
      "metadata": {
        "id": "EwRChVd_YMuL"
      },
      "execution_count": null,
      "outputs": []
    },
    {
      "cell_type": "code",
      "source": [
        "print(s[0])\n",
        "print(s[-3])\n",
        "print(s[1])\n",
        "print(len(s))\n",
        "print(s[-len(s)])"
      ],
      "metadata": {
        "colab": {
          "base_uri": "https://localhost:8080/"
        },
        "id": "cLS39OxpYM05",
        "outputId": "8aa05d59-cc9d-41ef-c049-0bed8b4432da"
      },
      "execution_count": null,
      "outputs": [
        {
          "output_type": "stream",
          "name": "stdout",
          "text": [
            "p\n",
            "h\n",
            "y\n",
            "6\n",
            "p\n"
          ]
        }
      ]
    },
    {
      "cell_type": "code",
      "source": [
        "print(s[0:4])\n",
        "print(s[:3])\n",
        "print(s[-5:-2])\n",
        "print(s[0:6:2])"
      ],
      "metadata": {
        "colab": {
          "base_uri": "https://localhost:8080/"
        },
        "id": "No2s-2vgYonM",
        "outputId": "7102f2c0-bf97-40c1-fdd6-0384ca2f1296"
      },
      "execution_count": null,
      "outputs": [
        {
          "output_type": "stream",
          "name": "stdout",
          "text": [
            "pyth\n",
            "pyt\n",
            "yth\n",
            "pto\n"
          ]
        }
      ]
    },
    {
      "cell_type": "code",
      "source": [
        "animals=[\"cat\",\"dog\",\"mouse\"]"
      ],
      "metadata": {
        "id": "atdi7vJeoHc3"
      },
      "execution_count": null,
      "outputs": []
    },
    {
      "cell_type": "code",
      "source": [
        "for an in animals:\n",
        "   print(\"hi \"+an)"
      ],
      "metadata": {
        "colab": {
          "base_uri": "https://localhost:8080/"
        },
        "id": "AZ2ABDudridr",
        "outputId": "ae3c9bcb-e625-4533-95c6-93376d52cbda"
      },
      "execution_count": null,
      "outputs": [
        {
          "output_type": "stream",
          "name": "stdout",
          "text": [
            "hi cat\n",
            "hi dog\n",
            "hi mouse\n"
          ]
        }
      ]
    },
    {
      "cell_type": "code",
      "source": [
        "a=1\n",
        "while a<10:\n",
        "   print(a)\n",
        "   a+=2"
      ],
      "metadata": {
        "colab": {
          "base_uri": "https://localhost:8080/"
        },
        "id": "IDbNYynzt-98",
        "outputId": "bdb91c7e-0643-4db6-97b4-0ee8e0894cec"
      },
      "execution_count": null,
      "outputs": [
        {
          "output_type": "stream",
          "name": "stdout",
          "text": [
            "1\n",
            "3\n",
            "5\n",
            "7\n",
            "9\n"
          ]
        }
      ]
    },
    {
      "cell_type": "code",
      "source": [
        "numbers=[12,37,5,42,8]\n",
        "even=[]\n",
        "odd=[]\n",
        "while len(numbers)>0:\n",
        "  number=numbers.pop()\n",
        "  if(number%2==0):\n",
        "    even.append(number)\n",
        "  else:\n",
        "    odd.append(number)  \n",
        "print(even)\n",
        "print(odd)"
      ],
      "metadata": {
        "colab": {
          "base_uri": "https://localhost:8080/"
        },
        "id": "6yM0pQrQuZy_",
        "outputId": "825fb173-34ce-465c-ff7d-f9d4289ffe40"
      },
      "execution_count": null,
      "outputs": [
        {
          "output_type": "stream",
          "name": "stdout",
          "text": [
            "[8, 42, 12]\n",
            "[5, 37]\n"
          ]
        }
      ]
    },
    {
      "cell_type": "code",
      "execution_count": null,
      "metadata": {
        "colab": {
          "base_uri": "https://localhost:8080/"
        },
        "id": "lU2kLd-hwsHK",
        "outputId": "9c7f0203-3711-4384-c4e2-a3cf2384afa8"
      },
      "outputs": [
        {
          "output_type": "stream",
          "name": "stdout",
          "text": [
            "1-Addition 2-Subtraction 3-Multiplication 4-Division\n",
            "enter first number:5\n",
            "enter second number:8\n",
            "enter the choice:1\n",
            "13\n"
          ]
        }
      ],
      "source": [
        "#@title Calculator\n",
        "print(\"1-Addition 2-Subtraction 3-Multiplication 4-Division\")\n",
        "a=int(input(\"enter first number:\"))\n",
        "b=int(input(\"enter second number:\"))\n",
        "choice=input(\"enter the choice:\")\n",
        "if choice=='1':\n",
        "  r=a+b\n",
        "elif choice=='2':\n",
        "  r=a-b\n",
        "elif choice=='3':\n",
        "  r=a*b\n",
        "elif choice=='4':\n",
        "  r=a/b\n",
        "print(r)"
      ]
    },
    {
      "cell_type": "code",
      "execution_count": null,
      "metadata": {
        "colab": {
          "base_uri": "https://localhost:8080/"
        },
        "id": "BHiWWLrE1enj",
        "outputId": "d3dddf80-89dc-43e5-b175-8f7190dc63d8"
      },
      "outputs": [
        {
          "output_type": "stream",
          "name": "stdout",
          "text": [
            "Enter a number:18\n",
            "It is not a prime number\n"
          ]
        }
      ],
      "source": [
        "#@title Prime number\n",
        "num=int(input(\"Enter a number:\"))\n",
        "c=0\n",
        "i=1\n",
        "while(i<=num):\n",
        "  if num%i==0:\n",
        "    c=c+1\n",
        "  i=i+1\n",
        "if c==2:\n",
        "  print(\"It is a prime number\")\n",
        "else:\n",
        "  print(\"It is not a prime number\")"
      ]
    },
    {
      "cell_type": "code",
      "execution_count": null,
      "metadata": {
        "colab": {
          "base_uri": "https://localhost:8080/"
        },
        "id": "WUDVCmKK5M-b",
        "outputId": "1f1c1482-0def-459f-d389-eb81b3e45480"
      },
      "outputs": [
        {
          "output_type": "stream",
          "name": "stdout",
          "text": [
            "Enter the year2006\n",
            "Not leap year\n"
          ]
        }
      ],
      "source": [
        "#@title Leap year\n",
        "yr=int(input(\"Enter the year\"))\n",
        "if yr%4==0:\n",
        "   if yr%100!=0:\n",
        "    print(\"Leap year\")\n",
        "   elif yr%400==0:\n",
        "    print(\"Leap year\")\n",
        "else:\n",
        "    print(\"Not leap year\")"
      ]
    },
    {
      "cell_type": "code",
      "source": [
        "#@title Sum of n numbers\n",
        "n=int(input(\"Enter the no of terms\"))\n",
        "s=0\n",
        "for i in range(n+1):\n",
        "  s=s+i\n",
        "print(s)"
      ],
      "metadata": {
        "colab": {
          "base_uri": "https://localhost:8080/"
        },
        "id": "qn_aJbe8AD7Z",
        "outputId": "54d6f506-84bf-43c5-d981-0928584c475b"
      },
      "execution_count": null,
      "outputs": [
        {
          "output_type": "stream",
          "name": "stdout",
          "text": [
            "Enter the no of terms6\n",
            "21\n"
          ]
        }
      ]
    },
    {
      "cell_type": "code",
      "source": [
        "# syntax: def function_name(argument):\n",
        "  #perform_function_operation"
      ],
      "metadata": {
        "id": "oIPCk3gYFfyf"
      },
      "execution_count": null,
      "outputs": []
    },
    {
      "cell_type": "code",
      "source": [
        "def greet():\n",
        "    print(\"hello\")"
      ],
      "metadata": {
        "id": "0amsZua2FkcF"
      },
      "execution_count": null,
      "outputs": []
    },
    {
      "cell_type": "code",
      "source": [
        "greet()"
      ],
      "metadata": {
        "colab": {
          "base_uri": "https://localhost:8080/"
        },
        "id": "V7dVTV4pFyx8",
        "outputId": "a824313b-bbb0-4849-ddff-cc0db52ea374"
      },
      "execution_count": null,
      "outputs": [
        {
          "output_type": "stream",
          "name": "stdout",
          "text": [
            "hello\n"
          ]
        }
      ]
    },
    {
      "cell_type": "code",
      "source": [
        "def addnumbers(num1,num2):\n",
        "  sum=num1+num2\n",
        "  print(sum)"
      ],
      "metadata": {
        "id": "V-BZcD0kF8xU"
      },
      "execution_count": null,
      "outputs": []
    },
    {
      "cell_type": "code",
      "source": [
        "addnumbers(4,5)"
      ],
      "metadata": {
        "colab": {
          "base_uri": "https://localhost:8080/"
        },
        "id": "hMcSokgnGDDP",
        "outputId": "6d5d326f-f922-4493-e900-6d84f95a3aa3"
      },
      "execution_count": null,
      "outputs": [
        {
          "output_type": "stream",
          "name": "stdout",
          "text": [
            "9\n"
          ]
        }
      ]
    },
    {
      "cell_type": "code",
      "source": [
        "def sqrnumber(num):\n",
        "   sq=num*num\n",
        "   print (sq)"
      ],
      "metadata": {
        "id": "gML1e8JjJjUt"
      },
      "execution_count": null,
      "outputs": []
    },
    {
      "cell_type": "code",
      "source": [
        "sqrnumber(3)"
      ],
      "metadata": {
        "colab": {
          "base_uri": "https://localhost:8080/"
        },
        "id": "zwiQNpcAJrxt",
        "outputId": "f2edbc29-9ed7-4ea6-c35a-bc22a738a512"
      },
      "execution_count": null,
      "outputs": [
        {
          "output_type": "stream",
          "name": "stdout",
          "text": [
            "9\n"
          ]
        }
      ]
    }
  ]
}